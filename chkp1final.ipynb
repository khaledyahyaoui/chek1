{
  "nbformat": 4,
  "nbformat_minor": 0,
  "metadata": {
    "colab": {
      "name": "Copie de Untitled1.ipynb",
      "provenance": [],
      "collapsed_sections": [],
      "toc_visible": true,
      "authorship_tag": "ABX9TyPCYOH9tm06E8ZXegwnBYPD",
      "include_colab_link": true
    },
    "kernelspec": {
      "name": "python3",
      "display_name": "Python 3"
    },
    "language_info": {
      "name": "python"
    }
  },
  "cells": [
    {
      "cell_type": "markdown",
      "metadata": {
        "id": "view-in-github",
        "colab_type": "text"
      },
      "source": [
        "<a href=\"https://colab.research.google.com/github/khaledyahyaoui/chek1/blob/main/chkp1final.ipynb\" target=\"_parent\"><img src=\"https://colab.research.google.com/assets/colab-badge.svg\" alt=\"Open In Colab\"/></a>"
      ]
    },
    {
      "cell_type": "code",
      "execution_count": null,
      "metadata": {
        "colab": {
          "base_uri": "https://localhost:8080/"
        },
        "id": "uFyHV-1zUKt7",
        "outputId": "bbcf70e8-76a5-4f4b-e0f9-2cd4ec4f0428"
      },
      "outputs": [
        {
          "output_type": "stream",
          "name": "stdout",
          "text": [
            "[2002, 2009, 2016, 2023, 2037, 2044, 2051, 2058, 2072, 2079, 2086, 2093, 2107, 2114, 2121, 2128, 2142, 2149, 2156, 2163, 2177, 2184, 2191, 2198, 2212, 2219, 2226, 2233, 2247, 2254, 2261, 2268, 2282, 2289, 2296, 2303, 2317, 2324, 2331, 2338, 2352, 2359, 2366, 2373, 2387, 2394, 2401, 2408, 2422, 2429, 2436, 2443, 2457, 2464, 2471, 2478, 2492, 2499, 2506, 2513, 2527, 2534, 2541, 2548, 2562, 2569, 2576, 2583, 2597, 2604, 2611, 2618, 2632, 2639, 2646, 2653, 2667, 2674, 2681, 2688, 2702, 2709, 2716, 2723, 2737, 2744, 2751, 2758, 2772, 2779, 2786, 2793, 2807, 2814, 2821, 2828, 2842, 2849, 2856, 2863, 2877, 2884, 2891, 2898, 2912, 2919, 2926, 2933, 2947, 2954, 2961, 2968, 2982, 2989, 2996, 3003, 3017, 3024, 3031, 3038, 3052, 3059, 3066, 3073, 3087, 3094, 3101, 3108, 3122, 3129, 3136, 3143, 3157, 3164, 3171, 3178, 3192, 3199]\n"
          ]
        }
      ],
      "source": [
        "L = []\n",
        "\n",
        "for x in range(2000, 3200):\n",
        " if x%7 == 0 and x%5 != 0:\n",
        "  L.append(x)\n",
        "print(L)\n",
        "\n",
        "\n"
      ]
    },
    {
      "cell_type": "code",
      "source": [
        "#Exercice 2"
      ],
      "metadata": {
        "id": "7PWZq1Z7Zbng"
      },
      "execution_count": null,
      "outputs": []
    },
    {
      "cell_type": "code",
      "source": [
        "L = int(input(\"Enter a number: \"))\n",
        "a= 1\n",
        "for i in range(1,L+1):\n",
        "       a = a*i\n",
        "print(\"The factorial of\", L ,\"is\",a)"
      ],
      "metadata": {
        "id": "JmNcBNSEZbuA"
      },
      "execution_count": null,
      "outputs": []
    },
    {
      "cell_type": "code",
      "source": [
        "#Exercice 3 :"
      ],
      "metadata": {
        "id": "YDf8XAj_ff6J"
      },
      "execution_count": null,
      "outputs": []
    },
    {
      "cell_type": "code",
      "source": [
        "d= {}\n",
        "n = int(input(\"Enter a number: \"))\n",
        "\n",
        "for i in range(1,n+1):\n",
        "   a = i*i\n",
        "   d[i]=a\n",
        "print(d)\n",
        "\n",
        "\n",
        "\n"
      ],
      "metadata": {
        "id": "YDcsYhUvfzzC"
      },
      "execution_count": null,
      "outputs": []
    },
    {
      "cell_type": "code",
      "source": [
        "#Exercice 4 :\n",
        "\n"
      ],
      "metadata": {
        "id": "TkffxCrLdoBK"
      },
      "execution_count": null,
      "outputs": []
    },
    {
      "cell_type": "markdown",
      "source": [
        ""
      ],
      "metadata": {
        "id": "ljw5gtfHe2ow"
      }
    },
    {
      "cell_type": "code",
      "source": [
        "#char=(str,n)\n",
        "a=[]\n",
        "n = int(input(\"Enter l'index pr le supprime: \"))\n",
        "str = (input(\" Entrer chaîne de caractère \"))\n",
        "a=str[:n]+str[n+1:]\n",
        "print(a)\n",
        "\n",
        "\n"
      ],
      "metadata": {
        "id": "4veKyH01dr7Z"
      },
      "execution_count": null,
      "outputs": []
    },
    {
      "cell_type": "code",
      "source": [
        "#exercice 7"
      ],
      "metadata": {
        "id": "oFFksj38cGTf"
      },
      "execution_count": null,
      "outputs": []
    },
    {
      "cell_type": "code",
      "source": [
        "import math\n",
        "C=50\n",
        "H=30\n",
        "A = input(\"Enter les valeurs de D: \")\n",
        "A = A.split(',')\n",
        "\n",
        "result = []\n",
        "for D in A:\n",
        "    Q = round(math.sqrt(2 * 50 * int(D) / 30))\n",
        "    result.append(Q)\n",
        "\n",
        "print(result)\n",
        "\n",
        "\n",
        "\n",
        "\n",
        "\n",
        "\n",
        "\n"
      ],
      "metadata": {
        "colab": {
          "base_uri": "https://localhost:8080/"
        },
        "outputId": "2f3b6d91-c500-410e-fdbd-b5f26afa8cbc",
        "id": "SR20uT2Fm4Gj"
      },
      "execution_count": null,
      "outputs": [
        {
          "output_type": "stream",
          "name": "stdout",
          "text": [
            "Enter les valeurs de D: 2,544\n",
            "[3, 43]\n"
          ]
        }
      ]
    }
  ]
}